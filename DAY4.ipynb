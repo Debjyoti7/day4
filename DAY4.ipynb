{
 "cells": [
  {
   "cell_type": "code",
   "execution_count": 11,
   "id": "78289d9c-0890-4326-9218-79e29c4af8f3",
   "metadata": {},
   "outputs": [],
   "source": [
    "name ='Data science master'"
   ]
  },
  {
   "cell_type": "code",
   "execution_count": 6,
   "id": "a342c203-efc2-49a3-88a6-43c519e88135",
   "metadata": {},
   "outputs": [
    {
     "data": {
      "text/plain": [
       "'Data science master'"
      ]
     },
     "execution_count": 6,
     "metadata": {},
     "output_type": "execute_result"
    }
   ],
   "source": [
    "name"
   ]
  },
  {
   "cell_type": "code",
   "execution_count": 9,
   "id": "a74614f6-f86f-4f57-8320-97f1bad2279d",
   "metadata": {},
   "outputs": [
    {
     "data": {
      "text/plain": [
       "'Data Science Master'"
      ]
     },
     "execution_count": 9,
     "metadata": {},
     "output_type": "execute_result"
    }
   ],
   "source": [
    "name.title()"
   ]
  },
  {
   "cell_type": "code",
   "execution_count": 10,
   "id": "6d328a46-f3c9-493e-b2e4-c9c80f4dde1d",
   "metadata": {},
   "outputs": [
    {
     "data": {
      "text/plain": [
       "'Data science master'"
      ]
     },
     "execution_count": 10,
     "metadata": {},
     "output_type": "execute_result"
    }
   ],
   "source": [
    "name.capitalize()"
   ]
  },
  {
   "cell_type": "code",
   "execution_count": 12,
   "id": "a5c36373-4840-402c-b253-3f152d1cc2c2",
   "metadata": {},
   "outputs": [
    {
     "data": {
      "text/plain": [
       "'dATA SCIENCE MASTER'"
      ]
     },
     "execution_count": 12,
     "metadata": {},
     "output_type": "execute_result"
    }
   ],
   "source": [
    "name.swapcase()"
   ]
  },
  {
   "cell_type": "code",
   "execution_count": 15,
   "id": "af3a4eac-4eb5-4346-bafc-3aac548ef856",
   "metadata": {},
   "outputs": [
    {
     "data": {
      "text/plain": [
       "'r12e12t12s12a12m12 12e12c12n12e12i12c12s12 12a12t12a12D'"
      ]
     },
     "execution_count": 15,
     "metadata": {},
     "output_type": "execute_result"
    }
   ],
   "source": [
    "'12'.join(reversed(name))"
   ]
  },
  {
   "cell_type": "code",
   "execution_count": 30,
   "id": "7e3ac973-73d8-488f-a49c-2ea37dcd1437",
   "metadata": {},
   "outputs": [
    {
     "data": {
      "text/plain": [
       "['r',\n",
       " 'e',\n",
       " 't',\n",
       " 's',\n",
       " 'a',\n",
       " 'm',\n",
       " ' ',\n",
       " 'e',\n",
       " 'c',\n",
       " 'n',\n",
       " 'e',\n",
       " 'i',\n",
       " 'c',\n",
       " 's',\n",
       " ' ',\n",
       " 'a',\n",
       " 't',\n",
       " 'a',\n",
       " 'D']"
      ]
     },
     "execution_count": 30,
     "metadata": {},
     "output_type": "execute_result"
    }
   ],
   "source": [
    "list(reversed(name))"
   ]
  },
  {
   "cell_type": "code",
   "execution_count": 28,
   "id": "b9af3644-0826-4754-9bf8-35f0e960a046",
   "metadata": {},
   "outputs": [
    {
     "name": "stdout",
     "output_type": "stream",
     "text": [
      "retsam ecneics ataD"
     ]
    }
   ],
   "source": [
    "for i  in list(reversed(name)):\n",
    "    print(i,end='')"
   ]
  },
  {
   "cell_type": "code",
   "execution_count": 29,
   "id": "1dbee1b4-e09e-499b-9cca-98438a57a0bf",
   "metadata": {},
   "outputs": [],
   "source": [
    "string_a=' PWskilss '"
   ]
  },
  {
   "cell_type": "code",
   "execution_count": null,
   "id": "7d655c43-69dd-4aa0-b1ab-662d4da8393e",
   "metadata": {},
   "outputs": [],
   "source": [
    "string_a.strip(\" \")"
   ]
  },
  {
   "cell_type": "code",
   "execution_count": 31,
   "id": "8ea2abd3-a664-4bc6-a908-069157e4129e",
   "metadata": {},
   "outputs": [
    {
     "data": {
      "text/plain": [
       "'We will go'"
      ]
     },
     "execution_count": 31,
     "metadata": {},
     "output_type": "execute_result"
    }
   ],
   "source": [
    "string_b=\"I will go\"\n",
    "string_b.replace(\"I\",\"We\")"
   ]
  },
  {
   "cell_type": "code",
   "execution_count": 32,
   "id": "20e446ed-7ada-4be2-bbdb-dc7e69963900",
   "metadata": {},
   "outputs": [
    {
     "name": "stdout",
     "output_type": "stream",
     "text": [
      "140031508201904\n"
     ]
    }
   ],
   "source": [
    "print(id(string_a))"
   ]
  },
  {
   "cell_type": "code",
   "execution_count": 34,
   "id": "313d6f8f-1cdc-481f-b801-f0f601a548e5",
   "metadata": {},
   "outputs": [],
   "source": [
    "var_a=string_a.replace('P','A')"
   ]
  },
  {
   "cell_type": "code",
   "execution_count": 35,
   "id": "46cf44d7-6ed9-44cf-96e9-1173ee512772",
   "metadata": {},
   "outputs": [
    {
     "name": "stdout",
     "output_type": "stream",
     "text": [
      " AWskilss \n"
     ]
    }
   ],
   "source": [
    "print(var_a)"
   ]
  },
  {
   "cell_type": "code",
   "execution_count": 36,
   "id": "7519eacc-4141-4d34-be73-ca0c39d0c855",
   "metadata": {},
   "outputs": [
    {
     "name": "stdout",
     "output_type": "stream",
     "text": [
      "140031661974448\n"
     ]
    }
   ],
   "source": [
    "print(id(var_a))"
   ]
  },
  {
   "cell_type": "code",
   "execution_count": 123,
   "id": "12085964-e382-474d-a9b4-01aa03a494ac",
   "metadata": {},
   "outputs": [],
   "source": [
    "str1 ='Welcome to pwskills. Welcome to Dat cinece Masters'"
   ]
  },
  {
   "cell_type": "code",
   "execution_count": 164,
   "id": "c004baf6-a90e-438d-811a-d4f72aa96170",
   "metadata": {},
   "outputs": [
    {
     "data": {
      "text/plain": [
       "'Welcome to pwskills. Welcome to Dat Science Masters'"
      ]
     },
     "execution_count": 164,
     "metadata": {},
     "output_type": "execute_result"
    }
   ],
   "source": [
    "str1.replace('Dta','Data').replace('cinece','Science')"
   ]
  },
  {
   "cell_type": "code",
   "execution_count": 125,
   "id": "188da10d-4fdf-4f76-93c2-c283953d8a69",
   "metadata": {},
   "outputs": [
    {
     "data": {
      "text/plain": [
       "'Welcome to pwskills. Welcome to Dat cinece Masters'"
      ]
     },
     "execution_count": 125,
     "metadata": {},
     "output_type": "execute_result"
    }
   ],
   "source": [
    "str1"
   ]
  },
  {
   "cell_type": "code",
   "execution_count": 126,
   "id": "d1caab29-603c-4059-91fb-11aa950a27a3",
   "metadata": {},
   "outputs": [
    {
     "data": {
      "text/plain": [
       "False"
      ]
     },
     "execution_count": 126,
     "metadata": {},
     "output_type": "execute_result"
    }
   ],
   "source": [
    "str1.isupper()"
   ]
  },
  {
   "cell_type": "code",
   "execution_count": 127,
   "id": "a0cb3892-284c-4a3a-8290-4d95ee94c51e",
   "metadata": {},
   "outputs": [],
   "source": [
    "str2='ACBVGKGGFGDF'"
   ]
  },
  {
   "cell_type": "code",
   "execution_count": 128,
   "id": "0876b8ad-b345-4d7c-898d-a50a7c98551a",
   "metadata": {},
   "outputs": [
    {
     "data": {
      "text/plain": [
       "True"
      ]
     },
     "execution_count": 128,
     "metadata": {},
     "output_type": "execute_result"
    }
   ],
   "source": [
    "str2.isupper()"
   ]
  },
  {
   "cell_type": "code",
   "execution_count": 129,
   "id": "4851f5c6-7fcc-4c34-8f6a-c6c36926c2a3",
   "metadata": {},
   "outputs": [
    {
     "data": {
      "text/plain": [
       "False"
      ]
     },
     "execution_count": 129,
     "metadata": {},
     "output_type": "execute_result"
    }
   ],
   "source": [
    "str1.islower()"
   ]
  },
  {
   "cell_type": "code",
   "execution_count": 130,
   "id": "7ec5060e-073e-4641-8a4f-4ed5c2178fbc",
   "metadata": {},
   "outputs": [
    {
     "name": "stdout",
     "output_type": "stream",
     "text": [
      "hello\n"
     ]
    }
   ],
   "source": [
    "if \" \".isspace():\n",
    "    print('hello')"
   ]
  },
  {
   "cell_type": "code",
   "execution_count": 131,
   "id": "fd377558-11c1-440e-881a-15f7562c4f67",
   "metadata": {},
   "outputs": [],
   "source": [
    "str3 ='pwskills'"
   ]
  },
  {
   "cell_type": "code",
   "execution_count": 132,
   "id": "093d4e9f-b5c3-4259-9b69-e7c5bbf22507",
   "metadata": {},
   "outputs": [
    {
     "data": {
      "text/plain": [
       "False"
      ]
     },
     "execution_count": 132,
     "metadata": {},
     "output_type": "execute_result"
    }
   ],
   "source": [
    "str3.endswith('x')"
   ]
  },
  {
   "cell_type": "code",
   "execution_count": 133,
   "id": "1530f2b7-9cd4-478f-8da3-bdd21a32d7d7",
   "metadata": {},
   "outputs": [],
   "source": [
    "a='gcadhj121134'"
   ]
  },
  {
   "cell_type": "code",
   "execution_count": 134,
   "id": "6bb8442c-f2bb-490c-a3ec-4aad17eee9a5",
   "metadata": {},
   "outputs": [
    {
     "data": {
      "text/plain": [
       "True"
      ]
     },
     "execution_count": 134,
     "metadata": {},
     "output_type": "execute_result"
    }
   ],
   "source": [
    "a.isalnum()"
   ]
  },
  {
   "cell_type": "code",
   "execution_count": 135,
   "id": "f0ec17d4-a243-421b-9f10-66483faa2c98",
   "metadata": {},
   "outputs": [
    {
     "data": {
      "text/plain": [
       "8"
      ]
     },
     "execution_count": 135,
     "metadata": {},
     "output_type": "execute_result"
    }
   ],
   "source": [
    "len(str3)"
   ]
  },
  {
   "cell_type": "code",
   "execution_count": 136,
   "id": "184c11a7-0e9e-4233-9bab-862ead3be316",
   "metadata": {},
   "outputs": [
    {
     "name": "stdout",
     "output_type": "stream",
     "text": [
      "8\n"
     ]
    }
   ],
   "source": [
    "count=0\n",
    "for i in str3:\n",
    "    count=count+1\n",
    "print(count)"
   ]
  },
  {
   "cell_type": "code",
   "execution_count": 137,
   "id": "6fb0ce45-a29d-4bb1-a683-bd17016714f2",
   "metadata": {},
   "outputs": [
    {
     "name": "stdout",
     "output_type": "stream",
     "text": [
      "0 = p\n",
      "1 = w\n",
      "2 = s\n",
      "3 = k\n",
      "4 = i\n",
      "5 = l\n",
      "6 = l\n",
      "7 = s\n"
     ]
    }
   ],
   "source": [
    "for i in range(len(str3)):\n",
    "    print(i,'=',str3[i])"
   ]
  },
  {
   "cell_type": "code",
   "execution_count": 138,
   "id": "73527f44-c8a0-4a5e-8cd0-4dcb9331bebb",
   "metadata": {},
   "outputs": [
    {
     "data": {
      "text/plain": [
       "7"
      ]
     },
     "execution_count": 138,
     "metadata": {},
     "output_type": "execute_result"
    }
   ],
   "source": [
    "len(str3)-1"
   ]
  },
  {
   "cell_type": "code",
   "execution_count": 139,
   "id": "4cc9831f-209b-4e8e-99fd-5e4db27b2c65",
   "metadata": {},
   "outputs": [
    {
     "name": "stdout",
     "output_type": "stream",
     "text": [
      "s\n",
      "l\n",
      "l\n",
      "i\n",
      "k\n",
      "s\n",
      "w\n",
      "p\n"
     ]
    }
   ],
   "source": [
    "ch=len(str3)-1\n",
    "while ch>=0:\n",
    "    print(str3[ch])\n",
    "    ch=ch-1"
   ]
  },
  {
   "cell_type": "code",
   "execution_count": 140,
   "id": "255fd1bf-4598-4b97-af89-b35de2ad9447",
   "metadata": {},
   "outputs": [
    {
     "name": "stdout",
     "output_type": "stream",
     "text": [
      "s\n",
      "l\n",
      "l\n",
      "i\n",
      "k\n",
      "s\n"
     ]
    }
   ],
   "source": [
    "ch=len(str3)-1\n",
    "while ch>=2:\n",
    "    print(str3[ch])\n",
    "    ch=ch-1"
   ]
  },
  {
   "cell_type": "code",
   "execution_count": 141,
   "id": "d9f1da15-d23e-41de-b03c-349fff893d39",
   "metadata": {},
   "outputs": [
    {
     "name": "stdout",
     "output_type": "stream",
     "text": [
      "sllikswp"
     ]
    }
   ],
   "source": [
    "for i in range(len(str3)):\n",
    "    print(str3[len(str3)-(i+1)],end='')"
   ]
  },
  {
   "cell_type": "code",
   "execution_count": 142,
   "id": "609aca2f-d36c-42c6-963f-ad566e4ec992",
   "metadata": {},
   "outputs": [],
   "source": [
    "vowels='AaEeIiOoUu'"
   ]
  },
  {
   "cell_type": "code",
   "execution_count": 143,
   "id": "bbc10241-d15f-4eeb-b9fd-7a6dd5fcb9a2",
   "metadata": {},
   "outputs": [
    {
     "name": "stdout",
     "output_type": "stream",
     "text": [
      "p is not a vowel\n",
      "w is not a vowel\n",
      "s is not a vowel\n",
      "k is not a vowel\n",
      "i is a vowel\n",
      "l is not a vowel\n",
      "l is not a vowel\n",
      "s is not a vowel\n"
     ]
    }
   ],
   "source": [
    "for ch in str3:\n",
    "    if ch in vowels:\n",
    "        print(f'{ch} is a vowel')\n",
    "    else:\n",
    "        print(f'{ch} is not a vowel')"
   ]
  },
  {
   "cell_type": "markdown",
   "id": "f4ea9653-f724-435d-86a3-b86cd2ee4c89",
   "metadata": {},
   "source": [
    "# List"
   ]
  },
  {
   "cell_type": "code",
   "execution_count": 144,
   "id": "50f9e03f-634d-4d0e-bfc0-53aaf7d1143e",
   "metadata": {},
   "outputs": [
    {
     "data": {
      "text/plain": [
       "list"
      ]
     },
     "execution_count": 144,
     "metadata": {},
     "output_type": "execute_result"
    }
   ],
   "source": [
    "type([])"
   ]
  },
  {
   "cell_type": "code",
   "execution_count": 145,
   "id": "1612b707-67ea-469b-a457-57579000ccb5",
   "metadata": {},
   "outputs": [
    {
     "data": {
      "text/plain": [
       "[1, 2, 3, 4, 5]"
      ]
     },
     "execution_count": 145,
     "metadata": {},
     "output_type": "execute_result"
    }
   ],
   "source": [
    "list([1,2,3,4,5])"
   ]
  },
  {
   "cell_type": "code",
   "execution_count": 146,
   "id": "0c4dbd86-60f5-43de-b51b-c3f024f01936",
   "metadata": {},
   "outputs": [
    {
     "data": {
      "text/plain": [
       "['p', 'w', 's', 'k', 'i', 'l', 'l', 's']"
      ]
     },
     "execution_count": 146,
     "metadata": {},
     "output_type": "execute_result"
    }
   ],
   "source": [
    "list(str3)"
   ]
  },
  {
   "cell_type": "code",
   "execution_count": 147,
   "id": "5ee2acec-e39f-41b4-be31-2f78d0c41334",
   "metadata": {},
   "outputs": [
    {
     "data": {
      "text/plain": [
       "['Welcome', 'to', 'pwskills.', 'Welcome', 'to', 'Dat', 'cinece', 'Masters']"
      ]
     },
     "execution_count": 147,
     "metadata": {},
     "output_type": "execute_result"
    }
   ],
   "source": [
    "list(str1.split(' '))"
   ]
  },
  {
   "cell_type": "code",
   "execution_count": 166,
   "id": "8c1495fc-bbe7-4b60-8b32-69b76e7ca270",
   "metadata": {},
   "outputs": [],
   "source": [
    "lst1=str1.replace('Dat','Data').replace('cinece','Scinse')"
   ]
  },
  {
   "cell_type": "code",
   "execution_count": 167,
   "id": "d7bf819b-3a4f-4e6e-b7cc-b2ca023f2cef",
   "metadata": {},
   "outputs": [
    {
     "data": {
      "text/plain": [
       "'Welcome to pwskills. Welcome to Data Scinse Masters'"
      ]
     },
     "execution_count": 167,
     "metadata": {},
     "output_type": "execute_result"
    }
   ],
   "source": [
    "lst1"
   ]
  },
  {
   "cell_type": "code",
   "execution_count": 155,
   "id": "246e5be7-7b63-4c55-ad09-3858d2ff62a6",
   "metadata": {},
   "outputs": [
    {
     "data": {
      "text/plain": [
       "'e'"
      ]
     },
     "execution_count": 155,
     "metadata": {},
     "output_type": "execute_result"
    }
   ],
   "source": [
    "lst1[1:2]"
   ]
  },
  {
   "cell_type": "code",
   "execution_count": 86,
   "id": "8ab877dd-6f1c-4f7b-951a-cdaeaf6a5279",
   "metadata": {},
   "outputs": [
    {
     "data": {
      "text/plain": [
       "['pwskills.Welcome']"
      ]
     },
     "execution_count": 86,
     "metadata": {},
     "output_type": "execute_result"
    }
   ],
   "source": [
    "lst1[-5:3]"
   ]
  },
  {
   "cell_type": "code",
   "execution_count": 87,
   "id": "94e71243-ce78-420c-9939-5bd47e8debee",
   "metadata": {},
   "outputs": [
    {
     "data": {
      "text/plain": [
       "'pwskills.Welcome'"
      ]
     },
     "execution_count": 87,
     "metadata": {},
     "output_type": "execute_result"
    }
   ],
   "source": [
    "lst1[2]"
   ]
  },
  {
   "cell_type": "code",
   "execution_count": 179,
   "id": "98beb8df-66cb-44d6-a542-5312e3c60f46",
   "metadata": {},
   "outputs": [],
   "source": [
    "lst2=lst1+ str(['new element',3])"
   ]
  },
  {
   "cell_type": "code",
   "execution_count": 186,
   "id": "3b69da0e-9fb3-4fd1-8651-5e4653a97d06",
   "metadata": {},
   "outputs": [
    {
     "data": {
      "text/plain": [
       "['Welcome',\n",
       " 'to',\n",
       " 'pwskills.',\n",
       " 'Welcome',\n",
       " 'to',\n",
       " 'Data',\n",
       " 'Scinse',\n",
       " \"Masters['new\",\n",
       " \"element',\",\n",
       " '3]']"
      ]
     },
     "execution_count": 186,
     "metadata": {},
     "output_type": "execute_result"
    }
   ],
   "source": [
    "lst2.split(' ')\n"
   ]
  },
  {
   "cell_type": "code",
   "execution_count": 181,
   "id": "48d96b5f-a95d-42cd-b26f-80028a436a5a",
   "metadata": {},
   "outputs": [
    {
     "data": {
      "text/plain": [
       "'e'"
      ]
     },
     "execution_count": 181,
     "metadata": {},
     "output_type": "execute_result"
    }
   ],
   "source": [
    "lst2[1]"
   ]
  },
  {
   "cell_type": "code",
   "execution_count": 182,
   "id": "cc82a64d-9a22-48e4-8bb9-982afee4485c",
   "metadata": {},
   "outputs": [
    {
     "data": {
      "text/plain": [
       "']'"
      ]
     },
     "execution_count": 182,
     "metadata": {},
     "output_type": "execute_result"
    }
   ],
   "source": [
    "lst2 [-1]"
   ]
  },
  {
   "cell_type": "code",
   "execution_count": 183,
   "id": "7825a548-31dc-409c-b131-9d842f282e06",
   "metadata": {},
   "outputs": [
    {
     "data": {
      "text/plain": [
       "\"Welcome to pwskills. Welcome to Data Scinse Masters['new element', 3]\""
      ]
     },
     "execution_count": 183,
     "metadata": {},
     "output_type": "execute_result"
    }
   ],
   "source": [
    "lst2"
   ]
  },
  {
   "cell_type": "code",
   "execution_count": 184,
   "id": "25edd0ff-b1fe-4eb1-808b-763cc40ef7dc",
   "metadata": {},
   "outputs": [
    {
     "data": {
      "text/plain": [
       "\"me to pwskills. Welcome to Data Scinse Masters['new element', 3\""
      ]
     },
     "execution_count": 184,
     "metadata": {},
     "output_type": "execute_result"
    }
   ],
   "source": [
    "lst2[5:-1]"
   ]
  },
  {
   "cell_type": "code",
   "execution_count": 187,
   "id": "5a686d81-e3e5-4ef3-8ad0-1f109e0d5149",
   "metadata": {},
   "outputs": [
    {
     "data": {
      "text/plain": [
       "'pwskills.'"
      ]
     },
     "execution_count": 187,
     "metadata": {},
     "output_type": "execute_result"
    }
   ],
   "source": [
    "lst2.split(' ')[2]"
   ]
  },
  {
   "cell_type": "code",
   "execution_count": 189,
   "id": "a4b99ab2-c4f6-45d4-a209-9d700fd0d35f",
   "metadata": {},
   "outputs": [
    {
     "name": "stdout",
     "output_type": "stream",
     "text": [
      "W e l c o m e   t o   p w s k i l l s .   W e l c o m e   t o   D a t a   S c i n s e   M a s t e r s "
     ]
    }
   ],
   "source": [
    "for element in lst1:\n",
    "    print(element,end=\" \")"
   ]
  },
  {
   "cell_type": "code",
   "execution_count": 191,
   "id": "2c4ab952-faaf-4c8d-a0d6-6e5aabe7333e",
   "metadata": {},
   "outputs": [
    {
     "name": "stdout",
     "output_type": "stream",
     "text": [
      "2\n"
     ]
    }
   ],
   "source": [
    "if 'to' in lst1:\n",
    "    print(len('to'))"
   ]
  },
  {
   "cell_type": "code",
   "execution_count": 193,
   "id": "eafdea94-f005-4581-b23f-4730b9a3d749",
   "metadata": {},
   "outputs": [],
   "source": [
    "lst3=[1,2,3,4,5,6,7]"
   ]
  },
  {
   "cell_type": "code",
   "execution_count": 195,
   "id": "68dedb95-5b6a-4bec-a5ee-0d9256cd6737",
   "metadata": {},
   "outputs": [
    {
     "data": {
      "text/plain": [
       "True"
      ]
     },
     "execution_count": 195,
     "metadata": {},
     "output_type": "execute_result"
    }
   ],
   "source": [
    "4 in lst3"
   ]
  },
  {
   "cell_type": "code",
   "execution_count": 196,
   "id": "3cb32ef1-9c81-4359-9aec-727cf76e5da4",
   "metadata": {},
   "outputs": [],
   "source": [
    "lst1=['A','B','C','D']\n",
    "lst2=[6,7,8,9,1,2,3]"
   ]
  },
  {
   "cell_type": "code",
   "execution_count": 197,
   "id": "da4de693-f50c-4d37-b692-0c7617cc824d",
   "metadata": {},
   "outputs": [
    {
     "data": {
      "text/plain": [
       "'D'"
      ]
     },
     "execution_count": 197,
     "metadata": {},
     "output_type": "execute_result"
    }
   ],
   "source": [
    "max(lst1)"
   ]
  },
  {
   "cell_type": "code",
   "execution_count": 198,
   "id": "a8e22e9b-cc1f-4efa-90eb-8646c151b289",
   "metadata": {},
   "outputs": [
    {
     "data": {
      "text/plain": [
       "1"
      ]
     },
     "execution_count": 198,
     "metadata": {},
     "output_type": "execute_result"
    }
   ],
   "source": [
    "min(lst2)"
   ]
  },
  {
   "cell_type": "code",
   "execution_count": 199,
   "id": "c8463f76-15f7-458c-bc41-c496e004ccf2",
   "metadata": {},
   "outputs": [
    {
     "data": {
      "text/plain": [
       "9"
      ]
     },
     "execution_count": 199,
     "metadata": {},
     "output_type": "execute_result"
    }
   ],
   "source": [
    "max(lst2)"
   ]
  },
  {
   "cell_type": "code",
   "execution_count": 200,
   "id": "8fb332c0-d10d-4f0a-acf3-d86fb1a844ac",
   "metadata": {},
   "outputs": [
    {
     "name": "stdout",
     "output_type": "stream",
     "text": [
      "1\n",
      "1\n",
      "1\n",
      "1\n"
     ]
    }
   ],
   "source": [
    "for i in lst1:\n",
    "    print(len(element))"
   ]
  },
  {
   "cell_type": "markdown",
   "id": "5d04f854-aadf-409c-b533-973a0c62ba80",
   "metadata": {},
   "source": [
    "# Append"
   ]
  },
  {
   "cell_type": "code",
   "execution_count": 201,
   "id": "d5d23037-245f-447e-a6a9-6154661df648",
   "metadata": {},
   "outputs": [],
   "source": [
    "lst=[1,2,3,4,5,6,7,8,9]\n",
    "lst.append(\"ABC\")"
   ]
  },
  {
   "cell_type": "code",
   "execution_count": 202,
   "id": "9af25fdc-56be-4d78-8c09-2a602900c1e6",
   "metadata": {},
   "outputs": [
    {
     "data": {
      "text/plain": [
       "[1, 2, 3, 4, 5, 6, 7, 8, 9, 'ABC']"
      ]
     },
     "execution_count": 202,
     "metadata": {},
     "output_type": "execute_result"
    }
   ],
   "source": [
    "lst"
   ]
  },
  {
   "cell_type": "code",
   "execution_count": 203,
   "id": "3b24a886-a563-4cb9-93f3-852c1f2724e4",
   "metadata": {},
   "outputs": [
    {
     "data": {
      "text/plain": [
       "['A', 'B', 'C', 'D']"
      ]
     },
     "execution_count": 203,
     "metadata": {},
     "output_type": "execute_result"
    }
   ],
   "source": [
    "lst1"
   ]
  },
  {
   "cell_type": "code",
   "execution_count": 204,
   "id": "b12a73e8-3a7b-4df8-bc1e-37e4e9f2c90a",
   "metadata": {},
   "outputs": [
    {
     "data": {
      "text/plain": [
       "'D'"
      ]
     },
     "execution_count": 204,
     "metadata": {},
     "output_type": "execute_result"
    }
   ],
   "source": [
    "lst1.pop()"
   ]
  },
  {
   "cell_type": "code",
   "execution_count": 205,
   "id": "812860d6-1f44-4337-8a77-95ae545775e9",
   "metadata": {},
   "outputs": [
    {
     "data": {
      "text/plain": [
       "['A', 'B', 'C']"
      ]
     },
     "execution_count": 205,
     "metadata": {},
     "output_type": "execute_result"
    }
   ],
   "source": [
    "lst1"
   ]
  },
  {
   "cell_type": "code",
   "execution_count": 206,
   "id": "7959aac1-0d92-49b0-8e8d-41e28cde81ed",
   "metadata": {},
   "outputs": [
    {
     "data": {
      "text/plain": [
       "1"
      ]
     },
     "execution_count": 206,
     "metadata": {},
     "output_type": "execute_result"
    }
   ],
   "source": [
    "lst2.pop(-3)"
   ]
  },
  {
   "cell_type": "code",
   "execution_count": 207,
   "id": "3a992de4-0f8b-40d3-bb2f-1f3b73fa4ff1",
   "metadata": {},
   "outputs": [
    {
     "data": {
      "text/plain": [
       "[6, 7, 8, 9, 2, 3]"
      ]
     },
     "execution_count": 207,
     "metadata": {},
     "output_type": "execute_result"
    }
   ],
   "source": [
    "lst2"
   ]
  },
  {
   "cell_type": "code",
   "execution_count": 208,
   "id": "5f07991b-54ab-4ad9-8eb8-e3a23deca55f",
   "metadata": {},
   "outputs": [],
   "source": [
    "new_list=[1,2,3,4,5,6,7,8,9]"
   ]
  },
  {
   "cell_type": "code",
   "execution_count": 209,
   "id": "29536714-b939-4ddf-b371-0a222d4fc2cc",
   "metadata": {},
   "outputs": [
    {
     "data": {
      "text/plain": [
       "[9, 8, 7, 6, 5, 4, 3, 2, 1]"
      ]
     },
     "execution_count": 209,
     "metadata": {},
     "output_type": "execute_result"
    }
   ],
   "source": [
    "new_list[::-1]"
   ]
  },
  {
   "cell_type": "code",
   "execution_count": 210,
   "id": "243f2774-18dc-46ee-89ec-703a81f1c7af",
   "metadata": {},
   "outputs": [],
   "source": [
    "new_list.reverse()"
   ]
  },
  {
   "cell_type": "code",
   "execution_count": 211,
   "id": "edcdb66f-44d2-4382-9389-96d1d8940b73",
   "metadata": {},
   "outputs": [
    {
     "data": {
      "text/plain": [
       "[9, 8, 7, 6, 5, 4, 3, 2, 1]"
      ]
     },
     "execution_count": 211,
     "metadata": {},
     "output_type": "execute_result"
    }
   ],
   "source": [
    "new_list"
   ]
  },
  {
   "cell_type": "code",
   "execution_count": 212,
   "id": "f4823fad-36eb-4082-af5c-d193ddc1610a",
   "metadata": {},
   "outputs": [],
   "source": [
    "new_list.sort()"
   ]
  },
  {
   "cell_type": "code",
   "execution_count": 213,
   "id": "f58c8137-de14-4c53-afc7-df54759f52b7",
   "metadata": {},
   "outputs": [
    {
     "data": {
      "text/plain": [
       "[1, 2, 3, 4, 5, 6, 7, 8, 9]"
      ]
     },
     "execution_count": 213,
     "metadata": {},
     "output_type": "execute_result"
    }
   ],
   "source": [
    "new_list"
   ]
  },
  {
   "cell_type": "code",
   "execution_count": 216,
   "id": "29a81978-e4cc-48a7-ab5e-8a094240ea97",
   "metadata": {},
   "outputs": [],
   "source": [
    "new_list.extend(['a','b','c','d'])"
   ]
  },
  {
   "cell_type": "code",
   "execution_count": 217,
   "id": "384ae921-77df-48ab-8792-460b16c13ba4",
   "metadata": {},
   "outputs": [
    {
     "data": {
      "text/plain": [
       "[1, 2, 3, 4, 5, 6, 7, 8, 9, 'a', 'b', 'c', 'd']"
      ]
     },
     "execution_count": 217,
     "metadata": {},
     "output_type": "execute_result"
    }
   ],
   "source": [
    "new_list"
   ]
  },
  {
   "cell_type": "code",
   "execution_count": 220,
   "id": "22dd0e61-c3ad-4e31-a4a8-d3a2568d5167",
   "metadata": {},
   "outputs": [],
   "source": [
    "lst_1=[1,2,3]\n",
    "lst_2=[4,5,6]\n",
    "lst_3=[7,8,9]\n",
    "matrix=[lst_1,lst_2,lst_3]"
   ]
  },
  {
   "cell_type": "code",
   "execution_count": 221,
   "id": "3a32bae4-d168-4600-a4dd-28717b17171a",
   "metadata": {},
   "outputs": [
    {
     "data": {
      "text/plain": [
       "[[1, 2, 3], [4, 5, 6], [7, 8, 9]]"
      ]
     },
     "execution_count": 221,
     "metadata": {},
     "output_type": "execute_result"
    }
   ],
   "source": [
    "matrix"
   ]
  },
  {
   "cell_type": "code",
   "execution_count": 222,
   "id": "7d044150-0607-4010-9b68-4ce45d29714f",
   "metadata": {},
   "outputs": [
    {
     "data": {
      "text/plain": [
       "5"
      ]
     },
     "execution_count": 222,
     "metadata": {},
     "output_type": "execute_result"
    }
   ],
   "source": [
    "matrix[1][1]"
   ]
  },
  {
   "cell_type": "code",
   "execution_count": 223,
   "id": "893a5fd1-d39f-43df-a6c5-8fa21c5acd9b",
   "metadata": {},
   "outputs": [
    {
     "data": {
      "text/plain": [
       "1"
      ]
     },
     "execution_count": 223,
     "metadata": {},
     "output_type": "execute_result"
    }
   ],
   "source": [
    "matrix[0][0]"
   ]
  },
  {
   "cell_type": "code",
   "execution_count": 224,
   "id": "71e34044-6d3a-49c2-9f32-ff09659ddb45",
   "metadata": {},
   "outputs": [
    {
     "data": {
      "text/plain": [
       "[8, 9]"
      ]
     },
     "execution_count": 224,
     "metadata": {},
     "output_type": "execute_result"
    }
   ],
   "source": [
    "matrix[2][1:]"
   ]
  },
  {
   "cell_type": "markdown",
   "id": "cd6c8b3f-7817-4190-a080-3de745d17e5b",
   "metadata": {},
   "source": [
    "# list comprehension"
   ]
  },
  {
   "cell_type": "code",
   "execution_count": 231,
   "id": "70a9115a-4da4-4788-a905-45143a46edb1",
   "metadata": {},
   "outputs": [
    {
     "name": "stdout",
     "output_type": "stream",
     "text": [
      "Even\n",
      "Odd\n",
      "Even\n",
      "Odd\n",
      "Even\n",
      "Odd\n",
      "Even\n",
      "Odd\n",
      "Even\n",
      "Odd\n"
     ]
    }
   ],
   "source": [
    "for i in range(10):\n",
    "    if i%2==0:\n",
    "        print('Even')\n",
    "    else:\n",
    "        print(\"Odd\")"
   ]
  },
  {
   "cell_type": "code",
   "execution_count": 237,
   "id": "33b5aa97-4fce-43fa-961e-8ad84155e1a7",
   "metadata": {},
   "outputs": [
    {
     "data": {
      "text/plain": [
       "['X',\n",
       " 1,\n",
       " 'X',\n",
       " 3,\n",
       " 'X',\n",
       " 5,\n",
       " 'X',\n",
       " 7,\n",
       " 'X',\n",
       " 9,\n",
       " 'X',\n",
       " 11,\n",
       " 'X',\n",
       " 13,\n",
       " 'X',\n",
       " 15,\n",
       " 'X',\n",
       " 17,\n",
       " 'X',\n",
       " 19]"
      ]
     },
     "execution_count": 237,
     "metadata": {},
     "output_type": "execute_result"
    }
   ],
   "source": [
    "[i if i%2!=0 else \"X\" for i in range(20)]"
   ]
  },
  {
   "cell_type": "code",
   "execution_count": 238,
   "id": "a451e991-22b4-47e4-8d16-c8d437437c7b",
   "metadata": {},
   "outputs": [],
   "source": [
    "lst=[1,2,3,4,5,6,7,8]"
   ]
  },
  {
   "cell_type": "code",
   "execution_count": 243,
   "id": "ea0ce179-ec23-49c1-a3e0-a059fbf3f469",
   "metadata": {},
   "outputs": [
    {
     "name": "stdout",
     "output_type": "stream",
     "text": [
      "20\n",
      "16\n"
     ]
    }
   ],
   "source": [
    "even_sum=0\n",
    "odd_sum=0\n",
    "for i in lst:\n",
    "    if i%2==0:\n",
    "        even_sum+=i\n",
    "    else:\n",
    "        odd_sum +=i\n",
    "print(even_sum)\n",
    "print(odd_sum)"
   ]
  },
  {
   "cell_type": "code",
   "execution_count": 245,
   "id": "d5bddca7-6120-4bef-9fb9-5861634640e3",
   "metadata": {},
   "outputs": [],
   "source": [
    "even_sum=sum([num for num in lst if num%2==0])"
   ]
  },
  {
   "cell_type": "code",
   "execution_count": 246,
   "id": "d5352c87-0d70-47fc-8c9a-02a95b4876df",
   "metadata": {},
   "outputs": [
    {
     "data": {
      "text/plain": [
       "20"
      ]
     },
     "execution_count": 246,
     "metadata": {},
     "output_type": "execute_result"
    }
   ],
   "source": [
    "even_sum"
   ]
  },
  {
   "cell_type": "code",
   "execution_count": 248,
   "id": "2d0f6184-4b22-4ed1-98df-c3d2dfd905e3",
   "metadata": {},
   "outputs": [
    {
     "data": {
      "text/plain": [
       "[1, 4, 9, 16, 25, 36, 49, 64, 81, 100]"
      ]
     },
     "execution_count": 248,
     "metadata": {},
     "output_type": "execute_result"
    }
   ],
   "source": [
    "lst=[1,2,3,4,5,6,7,8,9,10]\n",
    "[num**2 for num in lst]"
   ]
  },
  {
   "cell_type": "code",
   "execution_count": 253,
   "id": "72ae321d-f238-451c-bee9-76789f022206",
   "metadata": {},
   "outputs": [
    {
     "data": {
      "text/plain": [
       "[1, 2, 3]"
      ]
     },
     "execution_count": 253,
     "metadata": {},
     "output_type": "execute_result"
    }
   ],
   "source": [
    "lst=[-1,-2,-3,0,1,2,3]\n",
    "[num for num in lst if num >0]"
   ]
  },
  {
   "cell_type": "code",
   "execution_count": 254,
   "id": "2740481a-b3b3-47c6-851f-bcfc52fa5231",
   "metadata": {},
   "outputs": [
    {
     "data": {
      "text/plain": [
       "['a', 'b', 'c', 'm']"
      ]
     },
     "execution_count": 254,
     "metadata": {},
     "output_type": "execute_result"
    }
   ],
   "source": [
    "fruits=['apple','banana','cherry','mango']\n",
    "[word[0] for word in fruits]"
   ]
  },
  {
   "cell_type": "markdown",
   "id": "5f56a57f-5fcc-48b5-b0d7-d81766e515eb",
   "metadata": {},
   "source": [
    "# Celcius to Fahrenheit conversion"
   ]
  },
  {
   "cell_type": "code",
   "execution_count": 255,
   "id": "b48d613a-6abd-49e8-8bd5-799b2594b6e4",
   "metadata": {},
   "outputs": [
    {
     "data": {
      "text/plain": [
       "[32.0, 50.0, 68.0, 86.0, 104.0, 122.0]"
      ]
     },
     "execution_count": 255,
     "metadata": {},
     "output_type": "execute_result"
    }
   ],
   "source": [
    "celcius_temp=[0,10,20,30,40,50]\n",
    "[(9/5)*temp + 32 for temp in celcius_temp]"
   ]
  },
  {
   "cell_type": "code",
   "execution_count": 260,
   "id": "8afb0cd0-0429-440b-99b0-b60265229204",
   "metadata": {},
   "outputs": [
    {
     "data": {
      "text/plain": [
       "[1, 2, 3, 4, 5, 6, 7, 8, 9]"
      ]
     },
     "execution_count": 260,
     "metadata": {},
     "output_type": "execute_result"
    }
   ],
   "source": [
    "lists= [[1,2,3],[4,5,6],[7,8,9]]\n",
    "[j for i in lists for j in i ]"
   ]
  },
  {
   "cell_type": "code",
   "execution_count": 259,
   "id": "1708c8a2-00fb-4a7d-b2a0-6b002c550456",
   "metadata": {},
   "outputs": [
    {
     "data": {
      "text/plain": [
       "[1, 2, 3, 4, 5, 6, 7, 8, 9]"
      ]
     },
     "execution_count": 259,
     "metadata": {},
     "output_type": "execute_result"
    }
   ],
   "source": [
    "[num for sublist in lists for num in sublist]"
   ]
  },
  {
   "cell_type": "code",
   "execution_count": 264,
   "id": "90e120d5-1fb0-43d4-a103-f1fbf81523ed",
   "metadata": {},
   "outputs": [
    {
     "data": {
      "text/plain": [
       "[1, 2, 3, 4, 5, 6, 7, 8, 9]"
      ]
     },
     "execution_count": 264,
     "metadata": {},
     "output_type": "execute_result"
    }
   ],
   "source": [
    "numbers=[1,2,3,4,5,6,7,8,9]\n",
    "[num for num in numbers if num%num==0]"
   ]
  },
  {
   "cell_type": "code",
   "execution_count": null,
   "id": "5e5ae4e1-5e1e-45a4-ab3f-bff5f9963977",
   "metadata": {},
   "outputs": [],
   "source": []
  }
 ],
 "metadata": {
  "kernelspec": {
   "display_name": "Python 3 (ipykernel)",
   "language": "python",
   "name": "python3"
  },
  "language_info": {
   "codemirror_mode": {
    "name": "ipython",
    "version": 3
   },
   "file_extension": ".py",
   "mimetype": "text/x-python",
   "name": "python",
   "nbconvert_exporter": "python",
   "pygments_lexer": "ipython3",
   "version": "3.10.8"
  }
 },
 "nbformat": 4,
 "nbformat_minor": 5
}
